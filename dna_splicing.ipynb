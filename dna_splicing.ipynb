{
 "cells": [
  {
   "cell_type": "code",
   "execution_count": 2,
   "metadata": {},
   "outputs": [],
   "source": [
    "import pandas as pd\n",
    "import numpy as np\n",
    "from keras.models import Sequential\n",
    "from keras.layers import Dense\n",
    "from sklearn.model_selection import train_test_split"
   ]
  },
  {
   "cell_type": "code",
   "execution_count": 3,
   "metadata": {},
   "outputs": [
    {
     "data": {
      "text/html": [
       "<div>\n",
       "<style scoped>\n",
       "    .dataframe tbody tr th:only-of-type {\n",
       "        vertical-align: middle;\n",
       "    }\n",
       "\n",
       "    .dataframe tbody tr th {\n",
       "        vertical-align: top;\n",
       "    }\n",
       "\n",
       "    .dataframe thead th {\n",
       "        text-align: right;\n",
       "    }\n",
       "</style>\n",
       "<table border=\"1\" class=\"dataframe\">\n",
       "  <thead>\n",
       "    <tr style=\"text-align: right;\">\n",
       "      <th></th>\n",
       "      <th>Class</th>\n",
       "      <th>Donor</th>\n",
       "      <th>Sequence</th>\n",
       "    </tr>\n",
       "  </thead>\n",
       "  <tbody>\n",
       "    <tr>\n",
       "      <th>0</th>\n",
       "      <td>EI,</td>\n",
       "      <td>ATRINS-DONOR-521,</td>\n",
       "      <td>CCAGCTGCATCACAGGAGGCCAGCGAGCAGGTCTGTTCCAAGGGCC...</td>\n",
       "    </tr>\n",
       "    <tr>\n",
       "      <th>1</th>\n",
       "      <td>EI,</td>\n",
       "      <td>ATRINS-DONOR-905,</td>\n",
       "      <td>AGACCCGCCGGGAGGCGGAGGACCTGCAGGGTGAGCCCCACCGCCC...</td>\n",
       "    </tr>\n",
       "    <tr>\n",
       "      <th>2</th>\n",
       "      <td>EI,</td>\n",
       "      <td>BABAPOE-DONOR-30,</td>\n",
       "      <td>GAGGTGAAGGACGTCCTTCCCCAGGAGCCGGTGAGAAGCGCAGTCG...</td>\n",
       "    </tr>\n",
       "    <tr>\n",
       "      <th>3</th>\n",
       "      <td>EI,</td>\n",
       "      <td>BABAPOE-DONOR-867,</td>\n",
       "      <td>GGGCTGCGTTGCTGGTCACATTCCTGGCAGGTATGGGGCGGGGCTT...</td>\n",
       "    </tr>\n",
       "    <tr>\n",
       "      <th>4</th>\n",
       "      <td>EI,</td>\n",
       "      <td>BABAPOE-DONOR-2817,</td>\n",
       "      <td>GCTCAGCCCCCAGGTCACCCAGGAACTGACGTGAGTGTCCCCATCC...</td>\n",
       "    </tr>\n",
       "  </tbody>\n",
       "</table>\n",
       "</div>"
      ],
      "text/plain": [
       "  Class                Donor  \\\n",
       "0   EI,    ATRINS-DONOR-521,   \n",
       "1   EI,    ATRINS-DONOR-905,   \n",
       "2   EI,    BABAPOE-DONOR-30,   \n",
       "3   EI,   BABAPOE-DONOR-867,   \n",
       "4   EI,  BABAPOE-DONOR-2817,   \n",
       "\n",
       "                                            Sequence  \n",
       "0  CCAGCTGCATCACAGGAGGCCAGCGAGCAGGTCTGTTCCAAGGGCC...  \n",
       "1  AGACCCGCCGGGAGGCGGAGGACCTGCAGGGTGAGCCCCACCGCCC...  \n",
       "2  GAGGTGAAGGACGTCCTTCCCCAGGAGCCGGTGAGAAGCGCAGTCG...  \n",
       "3  GGGCTGCGTTGCTGGTCACATTCCTGGCAGGTATGGGGCGGGGCTT...  \n",
       "4  GCTCAGCCCCCAGGTCACCCAGGAACTGACGTGAGTGTCCCCATCC...  "
      ]
     },
     "execution_count": 3,
     "metadata": {},
     "output_type": "execute_result"
    }
   ],
   "source": [
    "df = pd.read_fwf('https://archive.ics.uci.edu/ml/machine-learning-databases/molecular-biology/splice-junction-gene-sequences/splice.data', header=None)\n",
    "df.columns = ['Class','Donor','Sequence'] # renaming the rows of the columns \n",
    "df.head()"
   ]
  },
  {
   "cell_type": "code",
   "execution_count": 4,
   "metadata": {},
   "outputs": [
    {
     "data": {
      "text/plain": [
       "N,     1655\n",
       "IE,     768\n",
       "EI,     767\n",
       "Name: Class, dtype: int64"
      ]
     },
     "execution_count": 4,
     "metadata": {},
     "output_type": "execute_result"
    }
   ],
   "source": [
    "df['Class'].value_counts() # for the numbers of each classes in the dataset "
   ]
  },
  {
   "cell_type": "code",
   "execution_count": 5,
   "metadata": {},
   "outputs": [
    {
     "data": {
      "text/html": [
       "<div>\n",
       "<style scoped>\n",
       "    .dataframe tbody tr th:only-of-type {\n",
       "        vertical-align: middle;\n",
       "    }\n",
       "\n",
       "    .dataframe tbody tr th {\n",
       "        vertical-align: top;\n",
       "    }\n",
       "\n",
       "    .dataframe thead th {\n",
       "        text-align: right;\n",
       "    }\n",
       "</style>\n",
       "<table border=\"1\" class=\"dataframe\">\n",
       "  <thead>\n",
       "    <tr style=\"text-align: right;\">\n",
       "      <th></th>\n",
       "      <th>Class</th>\n",
       "      <th>Donor</th>\n",
       "      <th>Sequence</th>\n",
       "      <th>0_C</th>\n",
       "      <th>0_D</th>\n",
       "      <th>0_G</th>\n",
       "      <th>0_T</th>\n",
       "      <th>1_C</th>\n",
       "      <th>1_D</th>\n",
       "      <th>1_G</th>\n",
       "      <th>...</th>\n",
       "      <th>58_G</th>\n",
       "      <th>58_N</th>\n",
       "      <th>58_T</th>\n",
       "      <th>59_C</th>\n",
       "      <th>59_G</th>\n",
       "      <th>59_N</th>\n",
       "      <th>59_T</th>\n",
       "      <th>IE,</th>\n",
       "      <th>N,</th>\n",
       "      <th>EI,</th>\n",
       "    </tr>\n",
       "  </thead>\n",
       "  <tbody>\n",
       "    <tr>\n",
       "      <th>0</th>\n",
       "      <td>EI,</td>\n",
       "      <td>ATRINS-DONOR-521,</td>\n",
       "      <td>CCAGCTGCATCACAGGAGGCCAGCGAGCAGGTCTGTTCCAAGGGCC...</td>\n",
       "      <td>1</td>\n",
       "      <td>0</td>\n",
       "      <td>0</td>\n",
       "      <td>0</td>\n",
       "      <td>1</td>\n",
       "      <td>0</td>\n",
       "      <td>0</td>\n",
       "      <td>...</td>\n",
       "      <td>0</td>\n",
       "      <td>0</td>\n",
       "      <td>1</td>\n",
       "      <td>0</td>\n",
       "      <td>1</td>\n",
       "      <td>0</td>\n",
       "      <td>0</td>\n",
       "      <td>0</td>\n",
       "      <td>0</td>\n",
       "      <td>1</td>\n",
       "    </tr>\n",
       "    <tr>\n",
       "      <th>1</th>\n",
       "      <td>EI,</td>\n",
       "      <td>ATRINS-DONOR-905,</td>\n",
       "      <td>AGACCCGCCGGGAGGCGGAGGACCTGCAGGGTGAGCCCCACCGCCC...</td>\n",
       "      <td>0</td>\n",
       "      <td>0</td>\n",
       "      <td>0</td>\n",
       "      <td>0</td>\n",
       "      <td>0</td>\n",
       "      <td>0</td>\n",
       "      <td>1</td>\n",
       "      <td>...</td>\n",
       "      <td>1</td>\n",
       "      <td>0</td>\n",
       "      <td>0</td>\n",
       "      <td>1</td>\n",
       "      <td>0</td>\n",
       "      <td>0</td>\n",
       "      <td>0</td>\n",
       "      <td>0</td>\n",
       "      <td>0</td>\n",
       "      <td>1</td>\n",
       "    </tr>\n",
       "    <tr>\n",
       "      <th>2</th>\n",
       "      <td>EI,</td>\n",
       "      <td>BABAPOE-DONOR-30,</td>\n",
       "      <td>GAGGTGAAGGACGTCCTTCCCCAGGAGCCGGTGAGAAGCGCAGTCG...</td>\n",
       "      <td>0</td>\n",
       "      <td>0</td>\n",
       "      <td>1</td>\n",
       "      <td>0</td>\n",
       "      <td>0</td>\n",
       "      <td>0</td>\n",
       "      <td>0</td>\n",
       "      <td>...</td>\n",
       "      <td>0</td>\n",
       "      <td>0</td>\n",
       "      <td>1</td>\n",
       "      <td>0</td>\n",
       "      <td>1</td>\n",
       "      <td>0</td>\n",
       "      <td>0</td>\n",
       "      <td>0</td>\n",
       "      <td>0</td>\n",
       "      <td>1</td>\n",
       "    </tr>\n",
       "    <tr>\n",
       "      <th>3</th>\n",
       "      <td>EI,</td>\n",
       "      <td>BABAPOE-DONOR-867,</td>\n",
       "      <td>GGGCTGCGTTGCTGGTCACATTCCTGGCAGGTATGGGGCGGGGCTT...</td>\n",
       "      <td>0</td>\n",
       "      <td>0</td>\n",
       "      <td>1</td>\n",
       "      <td>0</td>\n",
       "      <td>0</td>\n",
       "      <td>0</td>\n",
       "      <td>1</td>\n",
       "      <td>...</td>\n",
       "      <td>0</td>\n",
       "      <td>0</td>\n",
       "      <td>0</td>\n",
       "      <td>1</td>\n",
       "      <td>0</td>\n",
       "      <td>0</td>\n",
       "      <td>0</td>\n",
       "      <td>0</td>\n",
       "      <td>0</td>\n",
       "      <td>1</td>\n",
       "    </tr>\n",
       "    <tr>\n",
       "      <th>4</th>\n",
       "      <td>EI,</td>\n",
       "      <td>BABAPOE-DONOR-2817,</td>\n",
       "      <td>GCTCAGCCCCCAGGTCACCCAGGAACTGACGTGAGTGTCCCCATCC...</td>\n",
       "      <td>0</td>\n",
       "      <td>0</td>\n",
       "      <td>1</td>\n",
       "      <td>0</td>\n",
       "      <td>1</td>\n",
       "      <td>0</td>\n",
       "      <td>0</td>\n",
       "      <td>...</td>\n",
       "      <td>0</td>\n",
       "      <td>0</td>\n",
       "      <td>0</td>\n",
       "      <td>0</td>\n",
       "      <td>0</td>\n",
       "      <td>0</td>\n",
       "      <td>1</td>\n",
       "      <td>0</td>\n",
       "      <td>0</td>\n",
       "      <td>1</td>\n",
       "    </tr>\n",
       "  </tbody>\n",
       "</table>\n",
       "<p>5 rows × 233 columns</p>\n",
       "</div>"
      ],
      "text/plain": [
       "  Class                Donor  \\\n",
       "0   EI,    ATRINS-DONOR-521,   \n",
       "1   EI,    ATRINS-DONOR-905,   \n",
       "2   EI,    BABAPOE-DONOR-30,   \n",
       "3   EI,   BABAPOE-DONOR-867,   \n",
       "4   EI,  BABAPOE-DONOR-2817,   \n",
       "\n",
       "                                            Sequence  0_C  0_D  0_G  0_T  1_C  \\\n",
       "0  CCAGCTGCATCACAGGAGGCCAGCGAGCAGGTCTGTTCCAAGGGCC...    1    0    0    0    1   \n",
       "1  AGACCCGCCGGGAGGCGGAGGACCTGCAGGGTGAGCCCCACCGCCC...    0    0    0    0    0   \n",
       "2  GAGGTGAAGGACGTCCTTCCCCAGGAGCCGGTGAGAAGCGCAGTCG...    0    0    1    0    0   \n",
       "3  GGGCTGCGTTGCTGGTCACATTCCTGGCAGGTATGGGGCGGGGCTT...    0    0    1    0    0   \n",
       "4  GCTCAGCCCCCAGGTCACCCAGGAACTGACGTGAGTGTCCCCATCC...    0    0    1    0    1   \n",
       "\n",
       "   1_D  1_G ...   58_G  58_N  58_T  59_C  59_G  59_N  59_T  IE,  N,  EI,  \n",
       "0    0    0 ...      0     0     1     0     1     0     0    0   0    1  \n",
       "1    0    1 ...      1     0     0     1     0     0     0    0   0    1  \n",
       "2    0    0 ...      0     0     1     0     1     0     0    0   0    1  \n",
       "3    0    1 ...      0     0     0     1     0     0     0    0   0    1  \n",
       "4    0    0 ...      0     0     0     0     0     0     1    0   0    1  \n",
       "\n",
       "[5 rows x 233 columns]"
      ]
     },
     "execution_count": 5,
     "metadata": {},
     "output_type": "execute_result"
    }
   ],
   "source": [
    "df_new = df['Sequence'].apply(lambda x: pd.Series(list(x))) # converting the rows of sequence into columns \n",
    "df_2 = pd.get_dummies(df_new,drop_first=True) # to create dummy variables to get the occurance of each of Nucleobase\n",
    "df = pd.concat([df,df_2],1)\n",
    "df_2 = pd.get_dummies(df.Class,drop_first=True) # dummy variables gor IE, EI and N classes\n",
    "df_2['EI,'] = 1 - df_2['IE,'] - df_2['N,']  # giving values to dummy variables \n",
    "df = pd.concat([df,df_2],1)\n",
    "df.head()"
   ]
  },
  {
   "cell_type": "code",
   "execution_count": 6,
   "metadata": {},
   "outputs": [],
   "source": [
    "X = df[df.columns[3:]] # Extracting all the columns starting from third column into dataframe X\n",
    "y = X[X.columns[-3:]]  # Extracting the last three columns from dataframe X\n",
    "X = X[X.columns[:-3]]  # Extracting all the columns except the last three columns from dataframe X"
   ]
  },
  {
   "cell_type": "code",
   "execution_count": 7,
   "metadata": {},
   "outputs": [],
   "source": [
    "# creating test and train data from the X,y with ratio 67:33\n",
    "X_train, X_test, y_train, y_test = train_test_split(X, y, test_size=0.33, random_state=42)\n",
    "# creating crossing validation and fitting data from X,y with ratio 50:50 \n",
    "X_cv,X_ft,y_cv,y_ft = train_test_split(X_test, y_test, test_size=0.5, random_state=42)"
   ]
  },
  {
   "cell_type": "code",
   "execution_count": 8,
   "metadata": {},
   "outputs": [],
   "source": [
    "model = Sequential()\n",
    "model.add(Dense(36, input_dim=227, activation='relu')) # input layer with 36 input units \n",
    "model.add(Dense(32, activation='relu')) # hidden layer\n",
    "model.add(Dense(3, activation='sigmoid')) # output layer with 3 units"
   ]
  },
  {
   "cell_type": "code",
   "execution_count": 9,
   "metadata": {},
   "outputs": [],
   "source": [
    "# Configureing the model for training\n",
    "model.compile(loss='binary_crossentropy', optimizer='adam', metrics=['accuracy'])"
   ]
  },
  {
   "cell_type": "code",
   "execution_count": 10,
   "metadata": {},
   "outputs": [
    {
     "name": "stdout",
     "output_type": "stream",
     "text": [
      "Epoch 1/20\n",
      "2137/2137 [==============================] - 2s 1ms/step - loss: 0.5485 - acc: 0.7266\n",
      "Epoch 2/20\n",
      "2137/2137 [==============================] - 0s 106us/step - loss: 0.2553 - acc: 0.9165\n",
      "Epoch 3/20\n",
      "2137/2137 [==============================] - 0s 98us/step - loss: 0.1416 - acc: 0.9546\n",
      "Epoch 4/20\n",
      "2137/2137 [==============================] - 0s 86us/step - loss: 0.1045 - acc: 0.9669\n",
      "Epoch 5/20\n",
      "2137/2137 [==============================] - 0s 101us/step - loss: 0.0861 - acc: 0.9713\n",
      "Epoch 6/20\n",
      "2137/2137 [==============================] - 0s 90us/step - loss: 0.0718 - acc: 0.9769\n",
      "Epoch 7/20\n",
      "2137/2137 [==============================] - 0s 80us/step - loss: 0.0619 - acc: 0.9811\n",
      "Epoch 8/20\n",
      "2137/2137 [==============================] - 0s 84us/step - loss: 0.0510 - acc: 0.9871\n",
      "Epoch 9/20\n",
      "2137/2137 [==============================] - 0s 98us/step - loss: 0.0420 - acc: 0.9897\n",
      "Epoch 10/20\n",
      "2137/2137 [==============================] - 0s 106us/step - loss: 0.0353 - acc: 0.9916\n",
      "Epoch 11/20\n",
      "2137/2137 [==============================] - 0s 110us/step - loss: 0.0274 - acc: 0.9945\n",
      "Epoch 12/20\n",
      "2137/2137 [==============================] - 0s 105us/step - loss: 0.0233 - acc: 0.9967\n",
      "Epoch 13/20\n",
      "2137/2137 [==============================] - 0s 106us/step - loss: 0.0187 - acc: 0.9975\n",
      "Epoch 14/20\n",
      "2137/2137 [==============================] - 0s 95us/step - loss: 0.0154 - acc: 0.9980\n",
      "Epoch 15/20\n",
      "2137/2137 [==============================] - 0s 101us/step - loss: 0.0122 - acc: 0.9986\n",
      "Epoch 16/20\n",
      "2137/2137 [==============================] - 0s 104us/step - loss: 0.0101 - acc: 0.9991\n",
      "Epoch 17/20\n",
      "2137/2137 [==============================] - 0s 103us/step - loss: 0.0079 - acc: 0.9991\n",
      "Epoch 18/20\n",
      "2137/2137 [==============================] - 0s 99us/step - loss: 0.0068 - acc: 0.9992\n",
      "Epoch 19/20\n",
      "2137/2137 [==============================] - 0s 102us/step - loss: 0.0067 - acc: 0.9989\n",
      "Epoch 20/20\n",
      "2137/2137 [==============================] - 0s 111us/step - loss: 0.0058 - acc: 0.9991\n"
     ]
    },
    {
     "data": {
      "text/plain": [
       "<keras.callbacks.History at 0x16d9de46978>"
      ]
     },
     "execution_count": 10,
     "metadata": {},
     "output_type": "execute_result"
    }
   ],
   "source": [
    "# Training the model for a given number of epochs\n",
    "model.fit(X_train, y_train, epochs=20, batch_size=20)"
   ]
  },
  {
   "cell_type": "code",
   "execution_count": 11,
   "metadata": {},
   "outputs": [
    {
     "name": "stdout",
     "output_type": "stream",
     "text": [
      "2137/2137 [==============================] - 0s 113us/step\n",
      "\n",
      "acc: 99.97%\n"
     ]
    }
   ],
   "source": [
    "# Training Set Accuracy\n",
    "scores = model.evaluate(X_train, y_train)\n",
    "print(\"\\n%s: %.2f%%\" % (model.metrics_names[1], scores[1]*100))"
   ]
  },
  {
   "cell_type": "code",
   "execution_count": 12,
   "metadata": {},
   "outputs": [
    {
     "name": "stdout",
     "output_type": "stream",
     "text": [
      "526/526 [==============================] - 0s 30us/step\n",
      "\n",
      "acc: 95.75%\n"
     ]
    }
   ],
   "source": [
    "# Cross-validation Set Accuracy\n",
    "scores = model.evaluate(X_cv, y_cv)\n",
    "print(\"\\n%s: %.2f%%\" % (model.metrics_names[1], scores[1]*100))"
   ]
  },
  {
   "cell_type": "code",
   "execution_count": 14,
   "metadata": {},
   "outputs": [
    {
     "name": "stdout",
     "output_type": "stream",
     "text": [
      "527/527 [==============================] - 0s 22us/step\n",
      "\n",
      "acc: 96.65%\n"
     ]
    }
   ],
   "source": [
    "# Test Set Accuracy\n",
    "scores = model.evaluate(X_ft,y_ft)\n",
    "print(\"\\n%s: %.2f%%\" % (model.metrics_names[1], scores[1]*100))"
   ]
  },
  {
   "cell_type": "code",
   "execution_count": null,
   "metadata": {},
   "outputs": [],
   "source": []
  }
 ],
 "metadata": {
  "kernelspec": {
   "display_name": "Python 3",
   "language": "python",
   "name": "python3"
  },
  "language_info": {
   "codemirror_mode": {
    "name": "ipython",
    "version": 3
   },
   "file_extension": ".py",
   "mimetype": "text/x-python",
   "name": "python",
   "nbconvert_exporter": "python",
   "pygments_lexer": "ipython3",
   "version": "3.6.6"
  }
 },
 "nbformat": 4,
 "nbformat_minor": 2
}
